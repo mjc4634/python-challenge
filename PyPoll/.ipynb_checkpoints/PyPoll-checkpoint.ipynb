{
 "cells": [
  {
   "cell_type": "code",
   "execution_count": null,
   "metadata": {},
   "outputs": [],
   "source": [
    "import os\n",
    "import csv"
   ]
  },
  {
   "cell_type": "code",
   "execution_count": null,
   "metadata": {},
   "outputs": [
    {
     "name": "stdout",
     "output_type": "stream",
     "text": [
      "CSV Header:  ['Voter ID', 'County', 'Candidate']\n",
      "[['12864552', 'Marsh', 'Khan'], ['17444633', 'Marsh', 'Correy'], ['19330107', 'Marsh', 'Khan'], ['19865775', 'Queen', 'Khan'], ['11927875', 'Marsh', 'Khan']]\n"
     ]
    }
   ],
   "source": [
    "#create a list to read in our csv data\n",
    "pypoll_data = []\n",
    "#Define Path to csv file\n",
    "PyPoll_path = os.path.join('election_data.csv')\n",
    "#open the csv and read it to a variable\n",
    "with open(PyPoll_path) as csv_file:\n",
    "    csv_reader = csv.reader(csv_file, delimiter=',')\n",
    "    \n",
    "    csv_header = next(csv_reader)\n",
    "    print(\"CSV Header: \", csv_header)\n",
    "    \n",
    "    for row in csv_reader:\n",
    "        pypoll_data.append(row)\n",
    "    print(pypoll_data[0:5])"
   ]
  },
  {
   "cell_type": "code",
   "execution_count": null,
   "metadata": {},
   "outputs": [],
   "source": [
    "def vote_counter(data):\n",
    "    print_variable_1 = (\"Total Votes:\", len(data))\n",
    "    return print_variable_1\n",
    "def canidate_counter(data):\n",
    "    canidates_list = []\n",
    "    for i in data:\n",
    "        votes = i\n",
    "        canidates = votes[2]\n",
    "        canidates_list.append(canidates)\n",
    "        canidates_list_unique = list(set(canidates_list))\n",
    "    print_variable_2 = ('Canidates: ', canidates_list_unique)\n",
    "    return print_variable_2"
   ]
  },
  {
   "cell_type": "code",
   "execution_count": null,
   "metadata": {},
   "outputs": [
    {
     "name": "stdout",
     "output_type": "stream",
     "text": [
      "('Total Votes:', 3521001)\n"
     ]
    }
   ],
   "source": [
    "print(vote_counter(pypoll_data))\n",
    "print(canidate_counter(pypoll_data))"
   ]
  },
  {
   "cell_type": "code",
   "execution_count": null,
   "metadata": {},
   "outputs": [],
   "source": []
  },
  {
   "cell_type": "code",
   "execution_count": null,
   "metadata": {},
   "outputs": [],
   "source": []
  }
 ],
 "metadata": {
  "kernelspec": {
   "display_name": "Python 3",
   "language": "python",
   "name": "python3"
  },
  "language_info": {
   "codemirror_mode": {
    "name": "ipython",
    "version": 3
   },
   "file_extension": ".py",
   "mimetype": "text/x-python",
   "name": "python",
   "nbconvert_exporter": "python",
   "pygments_lexer": "ipython3",
   "version": "3.7.1"
  }
 },
 "nbformat": 4,
 "nbformat_minor": 2
}
