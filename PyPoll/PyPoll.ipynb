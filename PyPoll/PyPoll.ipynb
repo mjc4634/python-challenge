{
 "cells": [
  {
   "cell_type": "code",
   "execution_count": 1,
   "metadata": {},
   "outputs": [
    {
     "name": "stdout",
     "output_type": "stream",
     "text": [
      "/c/Users/Mason Carnahan/Documents/Bootcamp/python_HW/python-challenge/PyPoll\n"
     ]
    }
   ],
   "source": [
    "import os\n",
    "import csv\n",
    "!pwd"
   ]
  },
  {
   "cell_type": "code",
   "execution_count": 2,
   "metadata": {},
   "outputs": [
    {
     "name": "stdout",
     "output_type": "stream",
     "text": [
      "CSV Header:  ['Voter ID', 'County', 'Candidate']\n",
      "[['12864552', 'Marsh', 'Khan'], ['17444633', 'Marsh', 'Correy'], ['19330107', 'Marsh', 'Khan'], ['19865775', 'Queen', 'Khan'], ['11927875', 'Marsh', 'Khan']]\n"
     ]
    }
   ],
   "source": [
    "#create a list to read in our csv data\n",
    "pypoll_data = []\n",
    "#Define Path to csv file\n",
    "PyPoll_path = os.path.join('election_data.csv')\n",
    "#open the csv and read it to a variable\n",
    "with open(PyPoll_path) as csv_file:\n",
    "    csv_reader = csv.reader(csv_file, delimiter=',')\n",
    "    \n",
    "    csv_header = next(csv_reader)\n",
    "    print(\"CSV Header: \", csv_header)\n",
    "    \n",
    "    for row in csv_reader:\n",
    "        pypoll_data.append(row)\n",
    "    print(pypoll_data[0:5])"
   ]
  },
  {
   "cell_type": "code",
   "execution_count": 3,
   "metadata": {},
   "outputs": [
    {
     "name": "stdout",
     "output_type": "stream",
     "text": [
      "Wall time: 0 ns\n"
     ]
    }
   ],
   "source": [
    "%%time\n",
    "votes = 0\n",
    "def vote_counter(data):\n",
    "    print_variable_1 = (\"Total Votes:\", len(data))\n",
    "    return print_variable_1\n",
    "\n",
    "\n",
    "def canidate_counter(data):\n",
    "    #Total_votes = int(len(data))\n",
    "    canidates_list = []\n",
    "    c1 = 0\n",
    "    c2 = 0\n",
    "    c3 = 0\n",
    "    c4 = 0\n",
    "    counter = [[], [], [], []]\n",
    "    for i in data:\n",
    "      votes = i\n",
    "      canidates = i[2]\n",
    "      canidates_list.append(canidates)\n",
    "    #print(canidates_list)\n",
    "    for canidate in canidates_list:\n",
    "      if canidate == 'Khan':\n",
    "        c1 = c1 + 1\n",
    "      if canidate == 'Correy':\n",
    "        c2 = c2 + 1\n",
    "      if canidate == 'Li':\n",
    "        c3 = c3 + 1\n",
    "      if canidate == \"O'Tooley\":\n",
    "        c4 = c4 + 1\n",
    "            \n",
    "    total_votes = (c1+c2+c3+c4)\n",
    "    counter[0] = (\"Khan: \", c1)\n",
    "    counter[1] = (\"Correy: \", c2)\n",
    "    counter[2] = (\"Li: \", c3)\n",
    "    counter[3] = (\"O'Tooley: \", c4) \n",
    "    if total_votes == 0:\n",
    "      no_votes = str(\"NO VOTES!\")\n",
    "      return no_votes\n",
    "    Khan_percent = int(c1/total_votes*100)\n",
    "    Correy_percent = int(c2/total_votes*100)\n",
    "    Li_percent = int(c3/total_votes*100)\n",
    "    OTooley_percent = int(c4/total_votes*100)\n",
    "    \n",
    "    khan = (\"Khan: \" + str(Khan_percent) + \".000%  \" + \"(\" + str(c1) + \")\" )\n",
    "    correy = (\"Correy: \" + str(Correy_percent) + \".000%  \" + \"(\" + str(c2) + \")\" )\n",
    "    li = (\"Li: \" + str(Li_percent) + \".000%  \" + \"(\" + str(c3) + \")\" )\n",
    "    otooley = (\"O'Tooley: \" + str(OTooley_percent) + \".000%  \" + \"(\" + str(c4) + \")\" )\n",
    "    \n",
    "    total_list = [c1,c2,c3,c4]\n",
    "    winner = max(total_list)\n",
    "    if winner == total_list[0]:\n",
    "        winner = (\"Winner: Khan\")\n",
    "        return [[khan, correy, li, otooley], winner]\n",
    "    elif winner == total_list[1]:\n",
    "        winner = (\"Winner: Correy\")\n",
    "        return [[khan, correy, li, otooley], winner]\n",
    "    elif winner == total_list[2]:\n",
    "        winner = (\"Winner: Li\")\n",
    "        return [[khan, correy, li, otooley], winner]\n",
    "    elif winner == total_list[3]:\n",
    "        winner = (\"Winner: O'Tooley\")\n",
    "        return [[khan, correy, li, otooley], [winner]]\n",
    "    else: \n",
    "        print('No winner.')\n",
    "        \n",
    "        \n",
    "\n",
    "#print(canidates_list[0:10])"
   ]
  },
  {
   "cell_type": "code",
   "execution_count": 4,
   "metadata": {},
   "outputs": [],
   "source": [
    "#the output will write to csv\n",
    "output_path = os.path.join(\"output\", \"new.csv\")\n",
    "\n",
    "\n",
    "with open(output_path, 'w', newline='') as csvfile:\n",
    "    # Initialize csv.writer\n",
    "    csvwriter = csv.writer(csvfile, delimiter=',')\n",
    "\n",
    "    csvwriter.writerow(['Election Results'])\n",
    "    csvwriter.writerow(['-------------------------------'])\n",
    "    # Write the first row (column headers)\n",
    "    csvwriter.writerow([vote_counter(pypoll_data)])\n",
    "    csvwriter.writerow([canidate_counter(pypoll_data)])\n",
    "##############\n"
   ]
  },
  {
   "cell_type": "code",
   "execution_count": null,
   "metadata": {},
   "outputs": [],
   "source": []
  },
  {
   "cell_type": "code",
   "execution_count": null,
   "metadata": {},
   "outputs": [],
   "source": []
  }
 ],
 "metadata": {
  "kernelspec": {
   "display_name": "Python 3",
   "language": "python",
   "name": "python3"
  },
  "language_info": {
   "codemirror_mode": {
    "name": "ipython",
    "version": 3
   },
   "file_extension": ".py",
   "mimetype": "text/x-python",
   "name": "python",
   "nbconvert_exporter": "python",
   "pygments_lexer": "ipython3",
   "version": "3.7.1"
  }
 },
 "nbformat": 4,
 "nbformat_minor": 2
}
