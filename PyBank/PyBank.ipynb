{
 "cells": [
  {
   "cell_type": "code",
   "execution_count": 5,
   "metadata": {},
   "outputs": [],
   "source": [
    "import os\n",
    "import csv"
   ]
  },
  {
   "cell_type": "code",
   "execution_count": 6,
   "metadata": {},
   "outputs": [
    {
     "name": "stdout",
     "output_type": "stream",
     "text": [
      "CSV Header: ['Date', 'Profit/Losses']\n",
      "[['Jan-2010', '867884'], ['Feb-2010', '984655'], ['Mar-2010', '322013'], ['Apr-2010', '-69417'], ['May-2010', '310503']]\n"
     ]
    }
   ],
   "source": [
    "data_list = []\n",
    "csvpath = os.path.join(\"budget_data.csv\")\n",
    "\n",
    "with open(csvpath, newline='') as csv_file:\n",
    "    #csv reader \n",
    "    csvreader = csv.reader(csv_file, delimiter = ',')\n",
    "    \n",
    "    #print(csvreader)\n",
    "    \n",
    "    csv_header = next(csvreader)\n",
    "    print(f'CSV Header: {csv_header}')\n",
    "    \n",
    "    for row in csvreader:\n",
    "        data_list.append(row)\n",
    "    print(data_list[0:5])"
   ]
  },
  {
   "cell_type": "code",
   "execution_count": 9,
   "metadata": {},
   "outputs": [
    {
     "ename": "SyntaxError",
     "evalue": "invalid syntax (<ipython-input-9-12030d8c0544>, line 33)",
     "output_type": "error",
     "traceback": [
      "\u001b[1;36m  File \u001b[1;32m\"<ipython-input-9-12030d8c0544>\"\u001b[1;36m, line \u001b[1;32m33\u001b[0m\n\u001b[1;33m    print_variable_4 =(str(Greatest Increase in Profits: ), i[0]+ \" ($\" + str(i[1]) + \")\")\u001b[0m\n\u001b[1;37m                                           ^\u001b[0m\n\u001b[1;31mSyntaxError\u001b[0m\u001b[1;31m:\u001b[0m invalid syntax\n"
     ]
    }
   ],
   "source": [
    "#calculate number of months\n",
    "def month_counter(data):\n",
    "    print_variable_1 = (\"Total Months:\", len(data))\n",
    "    return print_variable_1\n",
    "    \n",
    "#calculates the net amount of profit\n",
    "def profit_calc(csv_list):\n",
    "    Total = 0\n",
    "    for i in csv_list:\n",
    "        monthly_total = int(i[1])\n",
    "        Total = monthly_total + Total\n",
    "    print_variable_2 = ('Total: $'+ str(Total))\n",
    "    return print_variable_2\n",
    "    \n",
    "\n",
    "#calculates the change in profit over entire, and max and min\n",
    "def chg(data):\n",
    "    Total = 0\n",
    "    money_list = []\n",
    "    for i in data:\n",
    "        monthly_total = int(i[1])\n",
    "        Total = monthly_total + Total\n",
    "        money_list.append(monthly_total)\n",
    "    inc = int(max(money_list))\n",
    "    dec = int(min(money_list))\n",
    "    avg = float(Total/(len(data)))\n",
    "    print_variable_3 = (\"Average Change: $\" + str(\"%.2f\" % avg))\n",
    "    #return print_variable_3\n",
    "    month_tot = 0\n",
    "    for i in data:\n",
    "        month_tot = int(i[1])\n",
    "        if month_tot == inc: \n",
    "            print_variable_4 =(str(Greatest Increase in Profits: ), i[0]+ \" ($\" + str(i[1]) + \")\")\n",
    "            #return print_variable_3, print_variable_4\n",
    "        elif month_tot == dec: \n",
    "            print_variable_5 =(\"Greatest Decrease in Profits: \", i[0]+ \" ($\" + str(i[1]) + \")\")\n",
    "            return print_variable_3, print_variable_4, print_variable_5\n"
   ]
  },
  {
   "cell_type": "code",
   "execution_count": 10,
   "metadata": {},
   "outputs": [],
   "source": [
    "#the output will write to csv\n",
    "output_path = os.path.join(\"output\", \"new.csv\")\n",
    "\n",
    "\n",
    "with open(output_path, 'w', newline='') as csvfile:\n",
    "    # Initialize csv.writer\n",
    "    csvwriter = csv.writer(csvfile, delimiter=',')\n",
    "\n",
    "    csvwriter.writerow(['Financial Analysis'])\n",
    "    csvwriter.writerow(['-------------------------------'])\n",
    "    # Write the first row (column headers)\n",
    "    csvwriter.writerow([month_counter(data_list)])\n",
    "    csvwriter.writerow([profit_calc(data_list)])\n",
    "    csvwriter.writerow([chg(data_list)[0]])\n",
    "    csvwriter.writerow([chg(data_list)[1]])\n",
    "    csvwriter.writerow([chg(data_list)[2]])"
   ]
  },
  {
   "cell_type": "code",
   "execution_count": null,
   "metadata": {},
   "outputs": [],
   "source": []
  },
  {
   "cell_type": "code",
   "execution_count": null,
   "metadata": {},
   "outputs": [],
   "source": []
  }
 ],
 "metadata": {
  "kernelspec": {
   "display_name": "Python 3",
   "language": "python",
   "name": "python3"
  },
  "language_info": {
   "codemirror_mode": {
    "name": "ipython",
    "version": 3
   },
   "file_extension": ".py",
   "mimetype": "text/x-python",
   "name": "python",
   "nbconvert_exporter": "python",
   "pygments_lexer": "ipython3",
   "version": "3.7.1"
  }
 },
 "nbformat": 4,
 "nbformat_minor": 2
}
